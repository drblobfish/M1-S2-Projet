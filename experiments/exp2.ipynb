{
 "cells": [
  {
   "cell_type": "code",
   "execution_count": 37,
   "id": "50f0d80a-c30a-41e6-bbf8-bc93de0c76fd",
   "metadata": {},
   "outputs": [
    {
     "name": "stdout",
     "output_type": "stream",
     "text": [
      "/Users/Yanis/Desktop/Projet M1 S2/M1-S2-Projet\n"
     ]
    }
   ],
   "source": [
    "%cd "
   ]
  },
  {
   "cell_type": "code",
   "execution_count": 39,
   "id": "5d67e200-9693-437a-99d6-8e83b14e4444",
   "metadata": {},
   "outputs": [],
   "source": [
    "from src.main import*"
   ]
  },
  {
   "cell_type": "code",
   "execution_count": 13,
   "id": "22f0069a-a178-44e2-884c-70ab372fbb36",
   "metadata": {},
   "outputs": [
    {
     "ename": "NameError",
     "evalue": "name 'hessenberg' is not defined",
     "output_type": "error",
     "traceback": [
      "\u001b[0;31m---------------------------------------------------------------------------\u001b[0m",
      "\u001b[0;31mNameError\u001b[0m                                 Traceback (most recent call last)",
      "Cell \u001b[0;32mIn[13], line 32\u001b[0m\n\u001b[1;32m     29\u001b[0m T \u001b[38;5;241m=\u001b[39m []\n\u001b[1;32m     31\u001b[0m \u001b[38;5;28;01mfor\u001b[39;00m i \u001b[38;5;129;01min\u001b[39;00m \u001b[38;5;28mrange\u001b[39m(n):\n\u001b[0;32m---> 32\u001b[0m     (h,t) \u001b[38;5;241m=\u001b[39m run_timing_tests(i)\n\u001b[1;32m     33\u001b[0m     H\u001b[38;5;241m.\u001b[39mappend(h)\n\u001b[1;32m     34\u001b[0m     T\u001b[38;5;241m.\u001b[39mappend(t)\n",
      "Cell \u001b[0;32mIn[13], line 16\u001b[0m, in \u001b[0;36mrun_timing_tests\u001b[0;34m(n)\u001b[0m\n\u001b[1;32m     14\u001b[0m A \u001b[38;5;241m=\u001b[39m (A\u001b[38;5;241m+\u001b[39mA\u001b[38;5;241m.\u001b[39mT)\u001b[38;5;241m/\u001b[39m\u001b[38;5;241m2\u001b[39m\n\u001b[1;32m     15\u001b[0m t1 \u001b[38;5;241m=\u001b[39m timeit\u001b[38;5;241m.\u001b[39mdefault_timer()\n\u001b[0;32m---> 16\u001b[0m hessenberg(A\u001b[38;5;241m.\u001b[39mcopy())\n\u001b[1;32m     17\u001b[0m t2 \u001b[38;5;241m=\u001b[39m timeit\u001b[38;5;241m.\u001b[39mdefault_timer()\n\u001b[1;32m     18\u001b[0m h \u001b[38;5;241m=\u001b[39m  (h\u001b[38;5;241m+\u001b[39mt2\u001b[38;5;241m-\u001b[39mt1)\u001b[38;5;241m/\u001b[39m\u001b[38;5;241m2\u001b[39m\n",
      "\u001b[0;31mNameError\u001b[0m: name 'hessenberg' is not defined"
     ]
    }
   ],
   "source": [
    "import timeit\n",
    "import matplotlib.pyplot as plt\n",
    "import numpy as np\n",
    "\n",
    "def run_timing_tests(n):\n",
    "    for i in range(10):\n",
    "        h=0\n",
    "        t=0\n",
    "        np.random.seed(0)\n",
    "        D = np.diag(np.arange(n))\n",
    "        P = np.random.uniform(-1,1,(n,n))\n",
    "        Pinv = np.linalg.inv(P)\n",
    "        A = P@D@Pinv\n",
    "        A = (A+A.T)/2\n",
    "        t1 = timeit.default_timer()\n",
    "        hessenberg(A.copy())\n",
    "        t2 = timeit.default_timer()\n",
    "        h =  (h+t2-t1)/2\n",
    "    \n",
    "        t3 = timeit.default_timer()\n",
    "        tridiagonale(A.copy())\n",
    "        t4 = timeit.default_timer()\n",
    "        t = (t+t4-t3)/2\n",
    "\n",
    "    return h,t\n",
    "\n",
    "n = 50\n",
    "H = []\n",
    "T = []\n",
    "\n",
    "for i in range(n):\n",
    "    (h,t) = run_timing_tests(i)\n",
    "    H.append(h)\n",
    "    T.append(t)\n",
    "    \n",
    "\n",
    "plt.plot(range(n),H,label = \"Hessenberg\")\n",
    "plt.plot(range(n),T,label = \"Tridiagonale\")\n",
    "plt.xlabel('n')\n",
    "plt.ylabel(\"Temps d'execution (s)\")\n",
    "plt.legend()\n",
    "plt.show()"
   ]
  },
  {
   "cell_type": "code",
   "execution_count": 15,
   "id": "727e4959-d336-4a94-be26-a0076332b49c",
   "metadata": {},
   "outputs": [],
   "source": [
    "def rend_hessenberg(A):\n",
    "    n = len(A[0])\n",
    "    for i in range(n):\n",
    "        for j in range(i-1):\n",
    "            A[i,j] = 0\n",
    "    return A\n",
    "\n",
    "\n",
    "\n",
    "\n",
    "\n",
    "#\"temps de calcul pour une itération qr en fonction de la taille de la matrice, pour les matrices de Hessenbergs et les matrices quelconque\"\n",
    "\n",
    "n = 50\n",
    "H = []\n",
    "M = []\n",
    "def run_timing_tests_iteration(n):\n",
    "    for i in range(1000):\n",
    "        h=0\n",
    "        t=0\n",
    "        np.random.seed(0)\n",
    "        D = np.diag(np.arange(n))\n",
    "        P = np.random.uniform(-1,1,(n,n))\n",
    "        Pinv = np.linalg.inv(P)\n",
    "        A = P@D@Pinv\n",
    "        A = (A+A.T)/2\n",
    "        t1 = timeit.default_timer()\n",
    "        hessenberg(A.copy())\n",
    "        t2 = timeit.default_timer()\n",
    "        h =  (h+t2-t1)/2\n",
    "    \n",
    "        t3 = timeit.default_timer()\n",
    "        tridiagonale(A.copy())\n",
    "        t4 = timeit.default_timer()\n",
    "        t = (t+t4-t3)/2\n",
    "\n",
    "    return h,t\n"
   ]
  },
  {
   "cell_type": "code",
   "execution_count": 9,
   "id": "67ca2ec9-1bbd-40eb-a9c6-393c229b8ee4",
   "metadata": {},
   "outputs": [
    {
     "ename": "NameError",
     "evalue": "name 'np' is not defined",
     "output_type": "error",
     "traceback": [
      "\u001b[0;31m---------------------------------------------------------------------------\u001b[0m",
      "\u001b[0;31mNameError\u001b[0m                                 Traceback (most recent call last)",
      "Cell \u001b[0;32mIn[9], line 1\u001b[0m\n\u001b[0;32m----> 1\u001b[0m A \u001b[38;5;241m=\u001b[39m np\u001b[38;5;241m.\u001b[39marray([\n\u001b[1;32m      2\u001b[0m     [\u001b[38;5;241m4\u001b[39m, \u001b[38;5;241m1\u001b[39m, \u001b[38;5;241m-\u001b[39m\u001b[38;5;241m2\u001b[39m, \u001b[38;5;241m2\u001b[39m],\n\u001b[1;32m      3\u001b[0m     [\u001b[38;5;241m1\u001b[39m, \u001b[38;5;241m2\u001b[39m,  \u001b[38;5;241m0\u001b[39m, \u001b[38;5;241m1\u001b[39m],\n\u001b[1;32m      4\u001b[0m     [\u001b[38;5;241m-\u001b[39m\u001b[38;5;241m2\u001b[39m, \u001b[38;5;241m0\u001b[39m, \u001b[38;5;241m3\u001b[39m, \u001b[38;5;241m-\u001b[39m\u001b[38;5;241m2\u001b[39m],\n\u001b[1;32m      5\u001b[0m     [\u001b[38;5;241m2\u001b[39m, \u001b[38;5;241m1\u001b[39m, \u001b[38;5;241m-\u001b[39m\u001b[38;5;241m2\u001b[39m, \u001b[38;5;241m-\u001b[39m\u001b[38;5;241m1\u001b[39m]\n\u001b[1;32m      6\u001b[0m ], dtype\u001b[38;5;241m=\u001b[39m\u001b[38;5;28mfloat\u001b[39m)\n\u001b[1;32m      8\u001b[0m B \u001b[38;5;241m=\u001b[39m rend_hessenberg(A)\n\u001b[1;32m     10\u001b[0m \u001b[38;5;28mprint\u001b[39m(B)\n",
      "\u001b[0;31mNameError\u001b[0m: name 'np' is not defined"
     ]
    }
   ],
   "source": [
    "A = np.array([\n",
    "    [4, 1, -2, 2],\n",
    "    [1, 2,  0, 1],\n",
    "    [-2, 0, 3, -2],\n",
    "    [2, 1, -2, -1]\n",
    "], dtype=float)\n",
    "\n",
    "B = rend_hessenberg(A)\n",
    "\n",
    "print(B)"
   ]
  },
  {
   "cell_type": "code",
   "execution_count": null,
   "id": "0bc30beb-6c31-40a0-a494-a750b6835606",
   "metadata": {},
   "outputs": [],
   "source": []
  }
 ],
 "metadata": {
  "kernelspec": {
   "display_name": "Python 3 (ipykernel)",
   "language": "python",
   "name": "python3"
  },
  "language_info": {
   "codemirror_mode": {
    "name": "ipython",
    "version": 3
   },
   "file_extension": ".py",
   "mimetype": "text/x-python",
   "name": "python",
   "nbconvert_exporter": "python",
   "pygments_lexer": "ipython3",
   "version": "3.11.5"
  }
 },
 "nbformat": 4,
 "nbformat_minor": 5
}
